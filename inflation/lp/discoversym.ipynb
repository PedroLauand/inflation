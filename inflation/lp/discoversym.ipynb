{
 "cells": [
  {
   "cell_type": "markdown",
   "metadata": {},
   "source": [
    "# discover_symmetry.py test notebook"
   ]
  },
  {
   "cell_type": "markdown",
   "metadata": {},
   "source": [
    "### Todos\n",
    "\n",
    "- (a) Improve the clarity/user-friendliness of the isclose-type check\n",
    "\n",
    "- (b) Incorporate the cardinality checks!\n",
    "\n",
    "- (c) Incorporate the inflation level checks!\n",
    "\n",
    "NB: for (b-c), change the internal representation of NetworkGraph to be based on the networkx library. Can implement checks of cardinalities & inflation levels by adequate \"coloring\" (additional data use for isomorphism purposes)."
   ]
  },
  {
   "cell_type": "markdown",
   "metadata": {},
   "source": [
    "### Logic behind the Distr.is_symmetry() code\n",
    "Given some agent_perm $\\sigma_p$ and io_perm $\\pi_{io}$, as well as some distribution $p$, we want to test whether or not, for all $(a_1,\\dots,a_n)$ (these should be understood as a set of outputs - forget about inputs, they do not really change the comprehension), it holds that $\\pi_{io} \\circ \\sigma_p(p)[a_1,\\dots,a_n] = p[a_1,\\dots,a_n]$ $(\\star)$. This order reflects our convention to apply, at the level of $p$, first the agent permutation $\\sigma_p$ and then the io permutation $\\pi_{io}$. To give meaning to this equation, we first have to specify what the different symmetry actions really mean.\n",
    "\n",
    "##### Representations of io_perm\n",
    "\n",
    "We define: $\\pi_{io}(a_1,\\dots,a_n) = (\\pi_{io}^{(1)}(a_1),\\dots,\\pi_{io}^{(n)}(a_n))$, i.e., $\\pi_{io}$ consists of $n$ individual permutations of outcomes. This is clearly a valid representation (preserves group structure).\n",
    "\n",
    "Now, at the level of the distribution $p$, we define: $\\pi_{io}(p)[\\vec a] = p[\\pi_{io}^{-1}(\\vec a)]$. This is a valid representation because\n",
    "$\\tau(\\pi(p)[\\vec a]) = \\pi(p)[\\tau^{-1}(\\vec a)] = p[\\pi^{-1} \\circ \\tau^{-1}(\\vec a)] = (\\tau\\circ\\pi)(p)[\\vec a]$.\n",
    "\n",
    "##### Representations of agent_perm\n",
    "\n",
    "We define: $\\sigma_p(a_1,\\dots,a_n) = (a_{\\sigma_p^{-1}(1)}, \\dots, a_{\\sigma_p^{-1}(n)})$. \n",
    "This is a valid representation: indeed, $\\tau(\\sigma(a_1,\\dots,a_n)) = \\tau(a_{\\sigma^{-1}(1)}, \\dots, a_{\\sigma^{-1}(n)}) = (a_{\\sigma^{-1}\\circ \\tau^{-1}(1)},\\dots, a_{\\sigma^{-1}\\circ \\tau^{-1}}(n)) = (\\tau \\circ \\sigma)(a_1,\\dots,a_n)$.\n",
    "\n",
    "At the level of the distribution $p$, we define: $\\sigma_p(p)[\\vec a] = p[\\sigma_p^{-1}(\\vec a)]$. \n",
    "This is a valid representation for the same reasons as $\\pi_{io}$ above.\n",
    "\n",
    "##### Simplifying the symmetry condition\n",
    "\n",
    "Let's look at the $(\\star)$ equation. It really means that we should have $p[\\sigma_p^{-1} \\circ \\pi_{io}^{-1}(\\vec a)] = p[\\vec a]$ for all $\\vec a$, or, by the bijectivity of the group representations, letting $\\vec a \\mapsto \\pi_{io} \\circ \\sigma_p(\\vec a)$, that we should have $p[\\vec a] = p[\\pi_{io} \\circ \\sigma_p(\\vec a)]$.\n",
    "\n",
    "In other words, we want, for all $\\vec a$, given $\\vec b = \\sigma_p(\\vec a)$ and $\\vec c = \\pi_{io}(\\vec b)$, that $p[\\vec c] = p[\\vec a]$. The code does exactly that: first, it computes $\\vec b$, which is given by\n",
    "\n",
    "$\\vec b = \\sigma_p(\\vec a) = (a_{\\sigma_p^{-1}(1)}, \\dots, a_{\\sigma_p^{-1}(n)})$, or in other words, $b_i = a_{\\sigma_p^{-1}(i)}$, or better put, $b_{\\sigma_p(i)} = a_i$.\n",
    "\n",
    "Then it computes $\\vec c = \\pi_{io}(\\vec b)$, or in other words, $c_i = \\pi_{io}^{(i)}(b_i)$."
   ]
  },
  {
   "cell_type": "markdown",
   "metadata": {},
   "source": [
    "### Some tests"
   ]
  },
  {
   "cell_type": "code",
   "execution_count": 1,
   "metadata": {},
   "outputs": [],
   "source": [
    "from discoversym import *\n",
    "from test_discoversym import *"
   ]
  },
  {
   "cell_type": "code",
   "execution_count": 2,
   "metadata": {},
   "outputs": [
    {
     "data": {
      "text/plain": [
       "----- GRAPH -----\n",
       "Source alpha is connected to agents A, B\n",
       "Source  beta is connected to agents B, C\n",
       "Source gamma is connected to agents A, C\n",
       "-----------------"
      ]
     },
     "execution_count": 2,
     "metadata": {},
     "output_type": "execute_result"
    }
   ],
   "source": [
    "g = get_triangle_network()\n",
    "g"
   ]
  },
  {
   "cell_type": "code",
   "execution_count": 3,
   "metadata": {},
   "outputs": [],
   "source": [
    "p = Distr([2,2,2,1,1,1])\n",
    "p[0,0,1,0,0,0] = 0.5\n",
    "p[1,1,0,0,0,0] = 0.5"
   ]
  },
  {
   "cell_type": "code",
   "execution_count": 4,
   "metadata": {},
   "outputs": [
    {
     "name": "stdout",
     "output_type": "stream",
     "text": [
      "----- DISTR -----\n",
      "A = 0, B = 0, C = 1 | X = 0, Y = 0, Z = 0 = 0.5\n",
      "A = 1, B = 1, C = 0 | X = 0, Y = 0, Z = 0 = 0.5\n",
      "-----------------\n",
      "[g]                   g_{all swap} =                                Swap 0 & 1 for all\n",
      "[Sym][Ugly] agents A->A, B->B, C->C then io A: (0->1, 1->0), B: (0->1, 1->0), C: (0->1, 1->0), X: (0->0), Y: (0->0), Z: (0->0) sources alpha->alpha,  beta-> beta, gamma->gamma\n",
      "[Sym] Events: A(0|0) A(1|0) B(0|0) B(1|0) C(0|0) C(1|0)\n",
      "           to A(1|0) A(0|0) B(1|0) B(0|0) C(1|0) C(0|0)\n",
      "     Sources: []\n",
      "           to []\n",
      "\n",
      "[g]                         g_{BC} = Swap Bob and Charlie,          then 0 & 1 for Bob and Charlie\n",
      "[Sym][Ugly] agents A->A, B->C, C->B then io A: (0->0, 1->1), B: (0->1, 1->0), C: (0->1, 1->0), X: (0->0), Y: (0->0), Z: (0->0) sources alpha->gamma,  beta-> beta, gamma->alpha\n",
      "[Sym] Events: B(0|0) B(1|0) C(0|0) C(1|0)\n",
      "           to C(1|0) C(0|0) B(1|0) B(0|0)\n",
      "     Sources: ['S0', 'S2']\n",
      "           to ['S2', 'S0']\n",
      "\n",
      "[g]     g_{all swap}.g_{AB}.g_{BC} = Cycle Alice -> Bob -> Charlie, then 0 & 1 for new Bob\n",
      "[Sym][Ugly] agents A->B, B->C, C->A then io A: (0->0, 1->1), B: (0->1, 1->0), C: (0->0, 1->1), X: (0->0), Y: (0->0), Z: (0->0) sources alpha-> beta,  beta->gamma, gamma->alpha\n",
      "[Sym] Events: A(0|0) A(1|0) B(0|0) B(1|0) C(0|0) C(1|0)\n",
      "           to B(0|0) B(1|0) C(1|0) C(0|0) A(0|0) A(1|0)\n",
      "     Sources: ['S0', 'S1', 'S2']\n",
      "           to ['S1', 'S2', 'S0']\n",
      "\n"
     ]
    }
   ],
   "source": [
    "print(p)\n",
    "symmetries = p.get_symmetries(g)\n",
    "for i,sym in enumerate(symmetries):\n",
    "    if not ( (i == 1) or (i == 2) or (i == 6) ):\n",
    "        # To limit the size of the output\n",
    "        continue\n",
    "    if True:\n",
    "        if i==0:\n",
    "            print(\"[g]                       Identity \")\n",
    "        if i==1:\n",
    "            print(\"[g]                   g_{all swap} =                                Swap 0 & 1 for all\")\n",
    "        if i==2:\n",
    "            print(\"[g]                         g_{BC} = Swap Bob and Charlie,          then 0 & 1 for Bob and Charlie\")\n",
    "        if i==3:\n",
    "            print(\"[g]            g_{all swap}.g_{BC} = Swap Bob and Charlie,          then 0 & 1 for Alice\")\n",
    "        if i==4:\n",
    "            print(\"[g]                         g_{AB} = Swap Alice and Bob\")\n",
    "        if i==5:\n",
    "            print(\"[g]            g_{all swap}.g_{AB} = Swap Alice and Bob,            then 0 & 1 for all\")\n",
    "        if i==6:\n",
    "            # First cyclic:\n",
    "            # A = 1, B = 0, C = 0   =   0.5\n",
    "            # A = 0, B = 1, C = 1   =   0.5\n",
    "            # Then swap 0 & 1 for new Bob\n",
    "            # A = 1, B = 1, C = 0   =   0.5\n",
    "            # A = 0, B = 0, C = 1   =   0.5\n",
    "            print(\"[g]     g_{all swap}.g_{AB}.g_{BC} = Cycle Alice -> Bob -> Charlie, then 0 & 1 for new Bob\")\n",
    "        if i==7:\n",
    "            print(\"[g]                  g_{AB}.g_{BC} = Cycle Alice -> Bob -> Charlie, then 0 & 1 for Alice and Charlie\")\n",
    "        if i==8:\n",
    "            print(\"[g]              (g_{AB}.g_{BC})^2 = Cycle Alice -> Charlie -> Bob, then 0 & 1 for Bob and Charlie\")\n",
    "        if i==9:\n",
    "            print(\"[g] g_{all swap}.(g_{AB}.g_{BC})^2 = Cycle Alice -> Charlie -> Bob, then 0 & 1 for Alice\")\n",
    "        if i==10:\n",
    "            print(\"[g]                         g_{AC} = Swap Alice and Charlie,        then 0 & 1 for Bob\")\n",
    "\n",
    "        # Overall, we see that we obtain a group of twelve elements essentially isomorphic to S_2 \\times S_3 (i.e., can freely invert all bits (S_2), as well as freely exchange all the agents provided this is compensated by appropriate outcome symmetries (S_3)).\n",
    "\n",
    "    print(sym.to_ugly_string())\n",
    "    print(sym)\n",
    "    print(\"\")"
   ]
  }
 ],
 "metadata": {
  "kernelspec": {
   "display_name": "Python 3.8.10 64-bit",
   "language": "python",
   "name": "python3"
  },
  "language_info": {
   "codemirror_mode": {
    "name": "ipython",
    "version": 3
   },
   "file_extension": ".py",
   "mimetype": "text/x-python",
   "name": "python",
   "nbconvert_exporter": "python",
   "pygments_lexer": "ipython3",
   "version": "3.8.10"
  },
  "orig_nbformat": 4,
  "vscode": {
   "interpreter": {
    "hash": "916dbcbb3f70747c44a77c7bcd40155683ae19c65e1c03b4aa3499c5328201f1"
   }
  }
 },
 "nbformat": 4,
 "nbformat_minor": 2
}
