{
 "cells": [
  {
   "cell_type": "markdown",
   "metadata": {},
   "source": [
    "# Tutorial"
   ]
  },
  {
   "cell_type": "markdown",
   "metadata": {},
   "source": [
    "The Inflation package contains implementations of the inflation technique for causal compatibility. It supports the linear-programming technique of [[1](https://www.arxiv.org/abs/1609.00672)], that is used for compatibility with classical and theory-independent models, and the semidefinite-programming method of [[2](https://www.arxiv.org/abs/1909.10519)], that is used for compatibility with classical and quantum models. It also supports hybrid scenarios containing classical, quantum or general non-classical sources of correlations. The implementation of Inflation follows an object-oriented design. The workflow comprises of three main steps:\n",
    "\n",
    "* Encode the causal scenario and desired inflation as an instance of `InflationProblem`.\n",
    "* Generate the associated optimization problem for classical, quantum, or theory-independent inflation, via `InflationLP` or `InflationSDP` depending on the goal.\n",
    "* Export the problem to a file and/or solve it.\n",
    "\n",
    "We will now go through the steps above in more detail. This tutorial is available on the [documentation webpage](https://ecboghiu.github.io/inflation/) and it can also be downloaded as a ready-to-run [Jupyter Notebook](https://github.com/ecboghiu/inflation/blob/main/examples/tutorial.ipynb) from the [GitHub repository](https://github.com/ecboghiu/inflation). If already familiar with inflation, the quickest way to get started is to run some examples from the [Examples](https://ecboghiu.github.io/inflation/_build/html/examples.html) section, which can also be downloaded as a [Jupyter Notebook](https://github.com/ecboghiu/inflation/blob/main/docs/examples.ipynb).\n",
    "\n",
    "We start by importing everything that we will need:"
   ]
  },
  {
   "cell_type": "code",
   "execution_count": 1,
   "metadata": {},
   "outputs": [],
   "source": [
    "from inflation import InflationProblem, InflationLP, InflationSDP\n",
    "import numpy as np"
   ]
  },
  {
   "cell_type": "markdown",
   "metadata": {},
   "source": [
    "## Encoding the inflation problem \n",
    "\n",
    "The first object of interest is [InflationProblem](https://ecboghiu.github.io/inflation/_build/html/inflationproblem.html#inflation.InflationProblem). When instantiating it, we pass all the relevant information about the causal scenario and the type of inflation we want to perform.\n",
    "\n",
    "#### Basics of causal diagrams\n",
    "\n",
    "Causal relationships are encoded through a Bayesian Directed Acyclic Graph, or DAG for short. The nodes of the graph represent random variables, which can be either observable (visible) or unobservable (hidden). Directed arrows encode causal influences between nodes. Arrows point from parent nodes to the nodes causally influenced by them, called children nodes. The acyclicity property avoids the presence of causal loops. \n",
    "\n",
    "For applications to physics, another class of random variables is often considered called \"settings\". These correspond to observable variables on whose outcome we condition in order to obtain the observed data. For example, this might correspond to measuring one property of a system versus another in an experiment. Furthermore, in physics we also have sources generating quantum correlations. These are modeled through the presence of quantum unobservable variables, which represent quantum systems. Arrows going into a quantum node represent controlling the corresponding quantum system. Arrows going out of the quantum node represent the children of the quantum node generating statistics by measuring the quantum system.\n",
    "\n",
    "#### The tripartite line and an inflation\n",
    "\n",
    "As an example, let us consider the tripartite line, or \"bilocality scenario\" [[3](https://arxiv.org/abs/1112.4502)], which corresponds to the scenario where three space-like separated parties ($A$, $B$ and $C$) measure two physical systems $\\rho_{AB}$, $\\rho_{BC}$ that never interacted in the past. The subindex of the systems indicates which parties have access to and can measure that state. This is a simple scenario where, for instance, entanglement swapping [[4](https://journals.aps.org/prl/abstract/10.1103/PhysRevLett.71.4287)] can be performed, which is at the heart of the quantum teleportation protocol [[5](https://journals.aps.org/prl/abstract/10.1103/PhysRevLett.70.1895)]. The corresponding DAG is:\n",
    "\n",
    "<center> <img src=\"./figures/bilocal.png\" width=\"400\" /> </center> \n",
    "\n",
    "We have three observed random variables, $A$, $B$ and $C$, two latent variables $\\rho_{AB}$ and $\\rho_{BC}$ denoting the physical systems sent to the parties, and three setting variables, $X$, $Y$ and $Z$. We assume all observed variables have cardinality 2, i.e., $a,b,c,x,y,z \\in \\{0, 1\\}$, where lower case denotes specific values that the random variables (in upper case) can take. In this causal scenario, correlations are generated by measuring the systems conditioned on the values of the settings. These correlations are encoded in the joint probability distribution $p(a,b,c|x,y,z)$. Notice that the probability distribution is not conditioned on $\\rho_{AB}$, $\\rho_{BC}$ as they are latent variables.\n",
    "\n",
    "#### Causal compatibility and inflation\n",
    "\n",
    "One of the fundamental questions to ask is whether a given a probability distribution $p(a,b,c|x,y,z)$ is compatible with a given causal scenario. The challenge in answering this question comes from the assumption of statistical independence of the sources $\\rho_{AB}$ and $\\rho_{BC}$. Inflation techniques are general methods that can give an answer to this question by relaxing the independence constraint. Let us consider an inflation of the bilocal scenario where we take two copies of each source, as in the following figure:\n",
    "\n",
    "<center>  <img src=\"./figures/bilocalityinflation.png\" width=\"400\" /> </center> \n",
    "\n",
    "Depending on the nature of the systems distributed by the sources, the parties will be able to perform different operations on them. If the systems are classical, the parties can clone them to and feed them to copies of their measurement devices. If they are quantum, the systems cannot be cloned, but the parties can choose on which copies of the systems to perform their measurements. If they are general physical states, then the parties can only use complete copies of the measurement devices and just feed one copy of each of the corresponding systems to each of them.\n",
    "These different operations are exploited to relax the independence conditions to symmetry conditions, that give rise to problems that can be formulated in terms of linear programming (in the case of classical and theory-independent models [[1](https://www.arxiv.org/abs/1909.10519)]) or semidefinite programming (in the case of quantum models [[2](https://www.arxiv.org/abs/1909.10519)]) using the NPA hierarchy [[6](https://arxiv.org/abs/0803.4290)].\n",
    "These symmetries arise from the extra sources in the inflated graph being copies of the original sources, e.g., $\\rho_{AB}{=}\\rho_{AB}^1{=}\\rho_{AB}^2$. If the SDP is infeasible, then we can conclude that the distribution $p(a,b,c|x,y,z)$ is incompatible with this causal graph, and furthermore, we get an analytical certificate. This certificate can be understood as a Bell-like inequality for the class of models considered in the particular network. For more details, see [[1](https://www.arxiv.org/abs/1909.10519)] and [[2](https://www.arxiv.org/abs/1909.10519)].\n",
    "\n",
    "### Creating an instance of `InflationProblem`\n",
    "\n",
    "The first step in using Inflation is encoding the scenario to be analyzed. This is done by providing a description of the target DAG, as well as the cardinalities of its visible variables (and optionally a number of possible measurement settings for each one). Also, one must specify the inflation that shall be constructed, by providing the amount of copies of each of the latent variables in the DAG that the inflation will contain. All this information is passed to an instance of `InflationProblem` as follows:"
   ]
  },
  {
   "cell_type": "code",
   "execution_count": 2,
   "metadata": {
    "slideshow": {
     "slide_type": "notes"
    }
   },
   "outputs": [],
   "source": [
    "InfProb = InflationProblem(dag={\"h1\": [\"v1\", \"v2\"],\n",
    "                                \"h2\": [\"v2\", \"v3\"]},\n",
    "                           outcomes_per_party=[2, 2, 2],\n",
    "                           settings_per_party=[2, 2, 2],\n",
    "                           inflation_level_per_source=[2, 2])"
   ]
  },
  {
   "cell_type": "markdown",
   "metadata": {},
   "source": [
    "The DAG is written as a dictionary where the keys are parent nodes, and the values are lists of the corresponding children nodes. In `outcomes_per_party` and `settings_per_party` we specify the cardinalities of visible nodes. The parameter `inflation_level_per_source` determines how many copies of the quantum sources we consider in the inflated graph. Another important argument is `classical_sources`, that allows to determine which of the sources will be assumed to be classical. This will be important for problems involving compatibility with classical causal models, and with hybrid models.\n",
    "\n",
    "Internally, Inflation handles scenarios as networks, which are bipartite DAGs with one layer of visible nodes (the outcomes) and another layer of both visible (the settings) and latent (the sources) nodes. If the DAG contains visible-to-visible connections (such as in the instrumental scenario [[7](https://quantum-journal.org/papers/q-2019-09-16-186/)]), `InflationProblem` automatically finds an equivalent network and keeps track of the correspondence when setting values and bounds.\n",
    "\n",
    "## Generating the relaxation: example with quantum compatibility\n",
    "\n",
    "For the sake of simplicity, we are going to consider the specific problem of compatibility with quantum models in the bilocality scenario. For examples of other types of inflations, see the end of this page.\n",
    "\n",
    "Once the scenario is set up, the next step is generating the associated characterization of distributions admitting a realization in the inflation. In order to consider compatibility with quantum models, one needs to use the object [InflationSDP](https://ecboghiu.github.io/inflation/_build/html/inflationsdp.html#inflation.InflationSDP), which generates the corresponding characterizations as semidefinite programs. [InflationSDP](https://ecboghiu.github.io/inflation/_build/html/inflationsdp.html#inflation.InflationSDP) is an object that takes as input an instance of `InflationProblem`:"
   ]
  },
  {
   "cell_type": "code",
   "execution_count": 3,
   "metadata": {},
   "outputs": [],
   "source": [
    "InfSDP = InflationSDP(InfProb)"
   ]
  },
  {
   "cell_type": "markdown",
   "metadata": {},
   "source": [
    "The first main method, [InflationSDP.generate_relaxation()](https://ecboghiu.github.io/inflation/_build/html/inflationsdp.html#inflation.InflationSDP.generate_relaxation) generates the SDP relaxation of the chosen inflation."
   ]
  },
  {
   "cell_type": "code",
   "execution_count": 4,
   "metadata": {},
   "outputs": [],
   "source": [
    "InfSDP.generate_relaxation('npa2') "
   ]
  },
  {
   "cell_type": "markdown",
   "metadata": {},
   "source": [
    "In the above example, we have chosen NPA hierarchy level 2. For the meaning of these levels, see [[6](https://arxiv.org/abs/0803.4290)]. For other hierarchies that we support, see the documentation of `InflationSDP.generate_relaxation()` method, or the [Examples](https://ecboghiu.github.io/inflation/_build/html/examples.html) section. The important thing to know is that the higher the hierarchy level, the tighter is the SDP relaxation (at the cost of needing more computational resources)."
   ]
  },
  {
   "cell_type": "markdown",
   "metadata": {},
   "source": [
    "## Running a feasibility problem\n",
    "\n",
    "If we have a specific distribution in mind, we can test whether such distribution can be generated in a certain causal structure. We can consider for the example the 2PR distribution, which is defined as \n",
    "\n",
    "$$ P_{\\text{2PR}}(abc|xyz) := \\frac{1+ (-1)^{a+b+c+xy+yz}}{8} $$\n",
    "\n",
    "and it is known to be incompatible with the quantum tripartite line scenario. We impose the corresponding constraints on the semidefinite program with [InflationSDP.set_distribution](https://ecboghiu.github.io/inflation/_build/html/inflationsdp.html#inflation.InflationSDP.set_distribution) and then we attempt to solve the program:"
   ]
  },
  {
   "cell_type": "code",
   "execution_count": 5,
   "metadata": {},
   "outputs": [
    {
     "data": {
      "text/plain": [
       "'infeasible'"
      ]
     },
     "execution_count": 5,
     "metadata": {},
     "output_type": "execute_result"
    }
   ],
   "source": [
    "P_2PR = np.zeros((2,2,2,2,2,2))\n",
    "\n",
    "for a,b,c,x,y,z in np.ndindex((2,2,2,2,2,2)):\n",
    "    P_2PR[a,b,c,x,y,z] = (1 + (-1)**(a + b + c + x*y + y*z))/8\n",
    "\n",
    "InfSDP.set_distribution(P_2PR)\n",
    "InfSDP.solve()\n",
    "InfSDP.status"
   ]
  },
  {
   "cell_type": "markdown",
   "metadata": {},
   "source": [
    "The problem status is reported as infeasible, therefore this serves as a proof that the 2PR distribution cannot be generated by measuring two independent quantum states, $\\rho_{AB}$ and $\\rho_{BC}$, in the tripartite line scenario.\n",
    "\n",
    "We can also export the problem with [InflationSDP.write_to_file()](https://ecboghiu.github.io/inflation/_build/html/inflationsdp.html#inflation.InflationSDP.write_to_file) method and run it with another solver. Currently, supported formats are `.mat` for MATLAB, `.dat-s` for various solvers and platforms (for instance, [Yalmip](https://yalmip.github.io)), and `.csv` for a human-readable output."
   ]
  },
  {
   "cell_type": "markdown",
   "metadata": {},
   "source": [
    "## Running an optimisation problem\n",
    "\n",
    "Inflation also supports the optimization of objective functions over the sets of distributions compatible with a given inflation. This is useful for finding bounds of Bell operators in complex multipartite scenarios. For example, we can calculate upper bounds on the value of the Mermin inequality, defined as:\n",
    "\n",
    "$$ \\text{Mermin} = \\langle A_1 B_0 C_0 \\rangle +  \\langle A_0 B_1 C_0 \\rangle +  \\langle A_0 B_0 C_1 \\rangle -  \\langle A_1 B_1 C_1 \\rangle $$\n",
    "\n",
    "over the tripartite line scenario:"
   ]
  },
  {
   "cell_type": "code",
   "execution_count": 6,
   "metadata": {},
   "outputs": [
    {
     "data": {
      "text/plain": [
       "3.4615797540545383"
      ]
     },
     "execution_count": 6,
     "metadata": {},
     "output_type": "execute_result"
    }
   ],
   "source": [
    "InfSDP.generate_relaxation('npa2')\n",
    "\n",
    "mmnts = InfSDP.measurements\n",
    "A0, B0, C0, A1, B1, C1 = (1-2*mmnts[party][0][setting][0]\n",
    "                          for setting in range(2)\n",
    "                          for party in range(3))\n",
    "\n",
    "InfSDP.set_objective(A1*B0*C0 + A0*B1*C0 + A0*B0*C1 - A1*B1*C1)\n",
    "InfSDP.solve()\n",
    "\n",
    "InfSDP.objective_value"
   ]
  },
  {
   "cell_type": "markdown",
   "metadata": {},
   "source": [
    "We get that the value of the Mermin Bell operator cannot achieve a value greater than $\\approx 3.4616$ in the quantum tripartite line scenario. This is less than the algebraic value of $4$ which is achievable when using tripartite quantum states distributed to $A$, $B$ and $C$."
   ]
  },
  {
   "cell_type": "markdown",
   "metadata": {},
   "source": [
    "## Inflations for different physical models\n",
    "\n",
    "The example discussed above deals with considering quantum models of the distributions of interest. However, it is also possible to consider classical models, and theory-independent (also known as _non-signaling_) models of physical systems. In order to characterize these, one needs to use the object [InflationLP](https://ecboghiu.github.io/inflation/_build/html/inflationlp.html#inflation.InflationLP), which generates the corresponding characterizations as linear programs. The usage of [InflationLP](https://ecboghiu.github.io/inflation/_build/html/inflationlp.html#inflation.InflationLP) is similar to that of [InflationSDP](https://ecboghiu.github.io/inflation/_build/html/inflationsdp.html#inflation.InflationSDP). Below we show an example of how to use both objects to characterize the maximum bipartite correlations that can be achieved in the triangle network (see, e.g., Example 2 in the [Examples](https://ecboghiu.github.io/inflation/_build/html/examples.html) page) given uniform single-party marginals and no tripartite correlation. This is, we consider upper bounts to the maximum value that the parameter $E_2$ in the distribution\n",
    "\n",
    "$$ P(a,b,c) = \\frac18 \\left( 1 + ((-1)^{a+b}+(-1)^{b+c}+(-1)^{a+c}) E_2 \\right) $$\n",
    "\n",
    "can achieve in different models of physical systems. A more comprehensive study was done in [[8]](https://arxiv.org/abs/2305.03745).\n",
    "\n",
    "In order to do this we will use the auxiliary function [`max_within_feasible`](https://ecboghiu.github.io/inflation/_build/html/optimization.html#inflation.sdp.optimization_utils.max_within_feasible), which is explained in more detail in Example 5 in the [Examples](https://ecboghiu.github.io/inflation/_build/html/examples.html) page."
   ]
  },
  {
   "cell_type": "code",
   "execution_count": null,
   "metadata": {},
   "outputs": [],
   "source": [
    "from inflation import max_within_feasible\n",
    "from sympy import Symbol\n",
    "\n",
    "def P(E2):\n",
    "    prob = np.zeros((2, 2, 2, 1, 1, 1), dtype='object')\n",
    "    for a, b, c in np.ndindex((2, 2, 2)):\n",
    "        prob[a,b,c,0,0,0] = 1/8 * (1+((-1)**(a+b)+(-1)**(b+c)+(-1)**(a+c)) * E2)\n",
    "    return prob\n",
    "\n",
    "# The different scenarios\n",
    "triangle = {\"l1\": [\"A\", \"B\"],\n",
    "            \"l2\": [\"B\", \"C\"],\n",
    "            \"l3\": [\"A\", \"C\"]}\n",
    "outcomes  = [2, 2, 2]\n",
    "inflation = [2, 2, 2]\n",
    "\n",
    "# Classical\n",
    "classicalScenario = InflationProblem(dag=triangle,\n",
    "                                     outcomes_per_party=outcomes,\n",
    "                                     inflation_level_per_source=inflation,\n",
    "                                     classical_sources='all')\n",
    "\n",
    "# Quantum and theory-independent\n",
    "nonclassicalScenario = InflationProblem(dag=triangle,\n",
    "                                        outcomes_per_party=outcomes,\n",
    "                                        inflation_level_per_source=inflation)\n",
    "\n",
    "# The numerical characterizations\n",
    "classical    = InflationLP(classicalScenario)\n",
    "quantum      = InflationSDP(nonclassicalScenario)\n",
    "quantum.generate_relaxation('npa2')\n",
    "nonsignaling = InflationLP(nonclassicalScenario)\n",
    "\n",
    "for problem, name in [[classical, 'classical'],\n",
    "                      [quantum, 'quantum'],\n",
    "                      [nonsignaling, 'nonsignaling']]:\n",
    "    problem.set_distribution(P(Symbol(\"E2\")))\n",
    "    E2 = max_within_feasible(problem, problem.known_moments, \"bisection\") \n",
    "    print(f\"(Upper bound to) maximum E2 in {name} teories: {E2}\")"
   ]
  },
  {
   "cell_type": "markdown",
   "metadata": {},
   "source": [
    "For more examples and features of the package, check out the [Examples](https://ecboghiu.github.io/inflation/_build/html/examples.html) section."
   ]
  },
  {
   "cell_type": "markdown",
   "metadata": {},
   "source": [
    "## References\n",
    "\n",
    "[1] E. Wolfe, R. W. Spekkens, and T. Fritz, *The Inflation Technique for Causal Inference with Latent Variables*, [J. Causal Inference 7, 20170020 (2019)](https://www.degruyter.com/document/doi/10.1515/jci-2017-0020/), [arXiv:1609.00672](https://www.arxiv.org/abs/1609.00672).\n",
    "\n",
    "[2] E. Wolfe, A. Pozas-Kerstjens, M. Grinberg, D. Rosset, A. Acín, and Miguel Navascués, *Quantum Inflation: A General Approach to Quantum Causal Compatibility*, [Phys. Rev. X 11, 021043 (2021)](https://journals.aps.org/prx/abstract/10.1103/PhysRevX.11.021043), [arXiv:1909.10519](https://www.arxiv.org/abs/1909.10519).\n",
    "\n",
    "[3] C. Branciard, D. Rosset, N. Gisin, and S. Pironio, *Bilocal versus non-bilocal correlations in entanglement swapping experiments*, [Phys. Rev. A 85, 032119 (2012)](https://journals.aps.org/pra/abstract/10.1103/PhysRevA.85.032119), [arXiv:1112.4502](https://arxiv.org/abs/1112.4502).\n",
    "\n",
    "[4] M. Żukowski, A. Zeilinger, M. A. Horne, and A. K. Ekert, *\"Event-ready-detectors\" Bell experiment via entanglement swapping*. [Phys. Rev. Lett. 71, 4287](https://journals.aps.org/prl/abstract/10.1103/PhysRevLett.71.4287).\n",
    "\n",
    "[5] C. H. Bennett, G. Brassard, C. Crépeau, R. Jozsa, A. Peres, and W. K. Wootters, *Teleporting an unknown quantum state via dual classical and Einstein-Podolsky-Rosen channels*, [Phys. Rev. Lett. 70, 1895 (1993)](https://journals.aps.org/prl/abstract/10.1103/PhysRevLett.70.1895).\n",
    "\n",
    "[6] M. Navascués, S. Pironio, and A. Acín, *A convergent hierarchy of semidefinite programs characterizing the set of quantum correlations*, [New J. Phys. 10 073013](https://iopscience.iop.org/article/10.1088/1367-2630/10/7/073013), [arXiv:0803.4290](https://arxiv.org/abs/0803.4290).\n",
    "\n",
    "[7] T. Van Himbeeck, J. Bohr Brask, S. Pironio, R. Ramanathan, A. Belén Sainz, and E. Wolfe, *Quantum violations in the Instrumental scenario and their relations to the Bell scenario*, [Quantum 3, 186 (2019)](https://quantum-journal.org/papers/q-2019-09-16-186/), [arXiv:1804.04119](https://arxiv.org/abs/1804.04119).\n",
    "\n",
    "[8] A. Pozas-Kerstjens, A. Girardin, T. Kriváchy, A. Tavakoli, and N. Gisin, *Post-quantum nonlocality in the minimal triangle scenario*, [New J. Phys. 25, 113037 (2023)](https://iopscience.iop.org/article/10.1088/1367-2630/ad0a16), [arXiv:2305.03745](https://arxiv.org/abs/2305.03745)."
   ]
  },
  {
   "cell_type": "markdown",
   "metadata": {},
   "source": []
  }
 ],
 "metadata": {
  "kernelspec": {
   "display_name": "Python 3 (ipykernel)",
   "language": "python",
   "name": "python3"
  },
  "language_info": {
   "codemirror_mode": {
    "name": "ipython",
    "version": 3
   },
   "file_extension": ".py",
   "mimetype": "text/x-python",
   "name": "python",
   "nbconvert_exporter": "python",
   "pygments_lexer": "ipython3",
   "version": "3.9.18"
  },
  "vscode": {
   "interpreter": {
    "hash": "5c2f8743b7bffe768e49b7326944f1db750a54ae5a22907e70233feb4ab21afd"
   }
  }
 },
 "nbformat": 4,
 "nbformat_minor": 4
}
